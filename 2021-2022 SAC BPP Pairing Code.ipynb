{
 "cells": [
  {
   "cell_type": "code",
   "execution_count": 529,
   "id": "0f44ca23",
   "metadata": {},
   "outputs": [],
   "source": [
    "import pandas as pd\n",
    "from pandas import ExcelWriter"
   ]
  },
  {
   "cell_type": "code",
   "execution_count": 530,
   "id": "dc98df38",
   "metadata": {},
   "outputs": [],
   "source": [
    "alumniRaw = pd.read_csv(\"/home/gabriel/BPP-pairing/BPP Alumni Responses CSV.csv\")\n",
    "studentRaw = pd.read_csv(\"/home/gabriel/BPP-pairing/BPP Student Responses CSV.csv\")\n",
    "#alumniRaw = pd.read_csv(\"C:/Users/gorei/OneDrive/Documents/SAC Coding/BPP 2021-2022/BPP Alumni Responses CSV.csv\")\n",
    "#studentRaw = pd.read_csv(\"C:/Users/gorei/OneDrive/Documents/SAC Coding/BPP 2021-2022/BPP Student Responses CSV.csv\")"
   ]
  },
  {
   "cell_type": "code",
   "execution_count": 531,
   "id": "4c932940",
   "metadata": {},
   "outputs": [],
   "source": [
    "# alumniColsToDrop = ['StartDate', 'How did you hear about Buckeye Pen Pals? - Other - Text', 'Graduation Year(s)', \n",
    "#                     'Which of the following fields does your degree/career align with? - Other - Text', \n",
    "#                     'Current employment: Company', 'Current employment: Title', \n",
    "#                     'Briefly summarize your career path/goals in more detail.', \n",
    "#                     'Were involved in any of the following extracurricular Activities? - Other - Text', \n",
    "#                    'Do you have any involvements that you are passionate about and enjoy discussing? (OSU or non-OSU affiliated)',\n",
    "#                    'Current Location: City, State (Country, if applicable)', \n",
    "#                     'Hometown Information: City, State (Country, if applicable)', 'High School', \n",
    "#                     'Please use the space below to give additional information about your identities. \\n\\n*This may include nationality, ethnicity, race, gender, sexuality, or any identities not listed above that are important to you. You can also elaborate on the selections above by providing your regional campus, military branch, etc. Please only share as much as you are comfortable with. This information will only be used to search for students who may also share these identities.', \n",
    "#                    'Do you feel your personal experiences/identities would benefit a student of a particular background/identity?', \n",
    "#                    'Additional Questions or Comments']\n",
    "# alumni = alumniRaw.drop(alumniColsToDrop, axis=1)\n",
    "# studentColsToDrop = ['What is your major(s) and/or minor(s)?', 'Briefly summarize your intended career goals in more detail.', \n",
    "#                     'Please include any additional information about your involvement here.', \n",
    "#                      'Is there anything else you are not formally involved with but are passionate about and enjoy discussing?', \n",
    "#                     'Please use the space below to give additional information about your identities', \n",
    "#                      'What would you most like to have in common with your pen pal?', \n",
    "#                      'Do you have a gender, age, and/or identity preference for your pen pal?', \n",
    "#                      'Are you looking to match with an alumni that has or does something specific?', \n",
    "#                      'If you participated in Buckeye Pen Pals in the past, who were you previously matched with?', \n",
    "#                     'How did you hear about Buckeye Pen Pals?']\n",
    "# student = studentRaw.drop(studentColsToDrop, axis=1)"
   ]
  },
  {
   "cell_type": "code",
   "execution_count": 532,
   "id": "1fbd5099",
   "metadata": {},
   "outputs": [],
   "source": [
    "whatYearPlanGradFromOSU = ['2023', '2024', '2025', '2026', '2027', 'Later']\n",
    "highestLevelOfDegreeHopeToAchieve = ['Associate\\'s Degree', 'Bachelor\\'s Degree', 'Master\\'s Degree', 'Doctoral Degree']\n",
    "doCareerGoalsOrMajorAlignWithField = ['Natural and Mathematical Sciences', 'Engineering', 'Healthcare or Medical', \n",
    "                                      'Education and Human Ecology', 'Business', 'Food and Agriculture', 'Political and Law', \n",
    "                                     'Humanities (history, art, language)', 'Sport, Hospitality and Entertainment', 'Other']\n",
    "involvedInFollowing = ['Student-Alumni Council (SAC)', 'Residence Life or Hall Council (RA, OA, RHAC)', \n",
    "                       'Ohio Union Activity Board (OUAB)', 'Undergraduate Student Government', \n",
    "                       'Greek Life', 'Buck-I-Serv, BuckeyeThon, or other community service organization', \n",
    "                       'OSU Honorary or Honors/Scholars Program', 'On-campus job or Work Study', \n",
    "                       'Athletic Organization (Block O, Student Athlete, Rec Sports Team)', \n",
    "                       'Religious Organization', 'Cultural Organization', 'Academic Organization', \n",
    "                       'Special Interest Organization']\n",
    "identifyWithIdentities = ['First-Generation College Student', 'LGBTQ+', 'ROTC, Veteran Student or Military Family', \n",
    "                         'International Student', 'Out-of-State Student', 'Commuter Student', 'Transfer Student', \n",
    "                          'Regional Campus Student']\n",
    "interestedMeetingInPerson = ['Yes', 'No']"
   ]
  },
  {
   "cell_type": "code",
   "execution_count": 533,
   "id": "b296cef5",
   "metadata": {},
   "outputs": [],
   "source": [
    "def filterByFields(origDf, filterField):\n",
    "    df = origDf.copy(deep = True)\n",
    "    for index, contents in origDf.iterrows():\n",
    "        field = contents['Which of the following fields does your career align with? - Selected Choice']\n",
    "        if (pd.isnull(field)):\n",
    "            field = ''\n",
    "        fieldInFilter = False\n",
    "        for i in filterField:\n",
    "            if (-1 < field.find(i)):\n",
    "                fieldInFilter = True\n",
    "        if (fieldInFilter == False and field != ''):\n",
    "            df = df.drop(index)\n",
    "    return df"
   ]
  },
  {
   "cell_type": "code",
   "execution_count": 534,
   "id": "5bccf904",
   "metadata": {},
   "outputs": [],
   "source": [
    "def filterByIdentity(origDf, filterIdentity):\n",
    "    df = origDf.copy(deep = True)\n",
    "    for index, contents in origDf.iterrows():\n",
    "        field = contents['Did you/do you identify with any of the following identities?']\n",
    "        if (pd.isnull(field)):\n",
    "            field = ''\n",
    "        fieldInFilter = False\n",
    "        for i in filterIdentity:\n",
    "            if (-1 < field.find(i)):\n",
    "                fieldInFilter = True\n",
    "        if (fieldInFilter == False and field != ''):\n",
    "            df = df.drop(index)\n",
    "    return df"
   ]
  },
  {
   "cell_type": "code",
   "execution_count": 535,
   "id": "cc2bfbbe",
   "metadata": {},
   "outputs": [],
   "source": [
    "def filterByInvolvement(origDf, filterInvolvement):\n",
    "    df = origDf.copy(deep = True)\n",
    "    for index, contents in origDf.iterrows():\n",
    "        field = contents['Were you involved in any of the following extracurricular activities? - Selected Choice']\n",
    "        if (pd.isnull(field)):\n",
    "            field = ''\n",
    "        fieldInFilter = False\n",
    "        for i in filterInvolvement:\n",
    "            if (-1 < field.find(i)):\n",
    "                fieldInFilter = True\n",
    "        if (fieldInFilter == False and field != ''):\n",
    "            df = df.drop(index)\n",
    "    return df"
   ]
  },
  {
   "cell_type": "code",
   "execution_count": 536,
   "id": "87665808",
   "metadata": {},
   "outputs": [],
   "source": [
    "def filterByInPersonEvent(origDf, filterInPerson):\n",
    "    df = origDf.copy(deep = True)\n",
    "    for index, contents in origDf.iterrows():\n",
    "        field = contents['Would you be interested in attending an in-person event to meet your pen pal in Columbus, OH?']\n",
    "        if (pd.isnull(field)):\n",
    "            field = ''\n",
    "        fieldInFilter = False\n",
    "        for i in filterInPerson:\n",
    "            if (-1 < field.find(i)):\n",
    "                fieldInFilter = True\n",
    "        if (fieldInFilter == False and field != ''):\n",
    "            df = df.drop(index)\n",
    "    return df"
   ]
  },
  {
   "cell_type": "code",
   "execution_count": 537,
   "id": "e7125379",
   "metadata": {},
   "outputs": [],
   "source": [
    "def getFieldsArray(studentRow):\n",
    "    fields = studentRow['Which of the following fields does your career goals align with? - Selected Choice']\n",
    "    if (pd.isnull(fields)):\n",
    "            fields = ''\n",
    "    fieldsArray = []\n",
    "    for i in doCareerGoalsOrMajorAlignWithField:\n",
    "        if (-1 < fields.find(i)):\n",
    "            fieldsArray.insert(len(fieldsArray), i)\n",
    "    return fieldsArray"
   ]
  },
  {
   "cell_type": "code",
   "execution_count": 538,
   "id": "d1a1a8f4",
   "metadata": {},
   "outputs": [],
   "source": [
    "def getIdentityArray(studentRow):\n",
    "    identities = studentRow['Do you identify with any of the following identities?']\n",
    "    if (pd.isnull(identities)):\n",
    "            identities = ''\n",
    "    identityArray = []\n",
    "    for i in identifyWithIdentities:\n",
    "        if (-1 < identities.find(i)):\n",
    "            identityArray.insert(len(identityArray), i)\n",
    "    return identityArray"
   ]
  },
  {
   "cell_type": "code",
   "execution_count": 539,
   "id": "203c0cb7",
   "metadata": {},
   "outputs": [],
   "source": [
    "def getInvolvementArray(studentRow):\n",
    "    involvements = studentRow['Are you involved in any of the following extracurricular activities? - Selected Choice']\n",
    "    if (pd.isnull(involvements)):\n",
    "            involvements = ''\n",
    "    involvementArray = []\n",
    "    for i in involvedInFollowing:\n",
    "        if (-1 < involvements.find(i)):\n",
    "            involvementArray.insert(len(involvementArray), i)\n",
    "    return involvementArray"
   ]
  },
  {
   "cell_type": "code",
   "execution_count": 540,
   "id": "fc932702",
   "metadata": {},
   "outputs": [],
   "source": [
    "def getInPersonArray(studentRow):\n",
    "    inPerson = studentRow['Would you be interested in attending an in-person event to meet your pen pal in Columbus, OH?']\n",
    "    inPersonArray = []\n",
    "    for i in interestedMeetingInPerson:\n",
    "        if (-1 < inPerson.find(i)):\n",
    "            inPersonArray.insert(len(inPersonArray), i)\n",
    "    return inPersonArray"
   ]
  },
  {
   "cell_type": "code",
   "execution_count": 541,
   "id": "389f2f90",
   "metadata": {},
   "outputs": [],
   "source": [
    "def filterFieldsIdentityInvolvementPerson(origDf, fieldArray, identityArray, involvementArray, inPersonArray):\n",
    "    df = origDf.copy(deep = True)\n",
    "    if (df.shape[0] > 3):\n",
    "        df = filterByFields(df, fieldArray)\n",
    "        if (df.shape[0] > 3):\n",
    "            df = filterByIdentity(df, identityArray)\n",
    "            if (df.shape[0] > 3):\n",
    "                df = filterByInvolvement(df, involvementArray)\n",
    "                if (df.shape[0] > 3):\n",
    "                    df = filterByInPersonEvent(df, inPersonArray)\n",
    "    return df"
   ]
  },
  {
   "cell_type": "code",
   "execution_count": 542,
   "id": "1a38497e",
   "metadata": {},
   "outputs": [],
   "source": [
    "def filterFieldsIdentityPersonInvolvement(origDf, fieldArray, identityArray, involvementArray, inPersonArray):\n",
    "    df = origDf.copy(deep = True)\n",
    "    if (df.shape[0] > 3):\n",
    "        df = filterByFields(df, fieldArray)\n",
    "        if (df.shape[0] > 3):\n",
    "            df = filterByIdentity(df, identityArray)\n",
    "            if (df.shape[0] > 3):\n",
    "                df = filterByInPersonEvent(df, inPersonArray)\n",
    "                if (df.shape[0] > 3):\n",
    "                    df = filterByInvolvement(df, involvementArray)\n",
    "    return df"
   ]
  },
  {
   "cell_type": "code",
   "execution_count": 543,
   "id": "b5f268f3",
   "metadata": {},
   "outputs": [],
   "source": [
    "def filterFieldsInvolvementPersonIdentity(origDf, fieldArray, identityArray, involvementArray, inPersonArray):\n",
    "    df = origDf.copy(deep = True)\n",
    "    if (df.shape[0] > 3):\n",
    "        df = filterByFields(df, fieldArray)\n",
    "        if (df.shape[0] > 3):\n",
    "            df = filterByInvolvement(df, involvementArray)\n",
    "            if (df.shape[0] > 3):\n",
    "                df = filterByInPersonEvent(df, inPersonArray)\n",
    "                if (df.shape[0] > 3):\n",
    "                    df = filterByIdentity(df, identityArray)\n",
    "    return df"
   ]
  },
  {
   "cell_type": "code",
   "execution_count": 544,
   "id": "807ba2c4",
   "metadata": {},
   "outputs": [],
   "source": [
    "def filterFieldsInvolvementIdentityPerson(origDf, fieldArray, identityArray, involvementArray, inPersonArray):\n",
    "    df = origDf.copy(deep = True)\n",
    "    if (df.shape[0] > 3):\n",
    "        df = filterByFields(df, fieldArray)\n",
    "        if (df.shape[0] > 3):\n",
    "            df = filterByInvolvement(df, involvementArray)\n",
    "            if (df.shape[0] > 3):\n",
    "                df = filterByIdentity(df, identityArray)\n",
    "                if (df.shape[0] > 3):\n",
    "                    df = filterByInPersonEvent(df, inPersonArray)\n",
    "    return df"
   ]
  },
  {
   "cell_type": "code",
   "execution_count": 545,
   "id": "72039c98",
   "metadata": {},
   "outputs": [],
   "source": [
    "def filterFieldsPersonIdentityInvolvement(origDf, fieldArray, identityArray, involvementArray, inPersonArray):\n",
    "    df = origDf.copy(deep = True)\n",
    "    if (df.shape[0] > 3):\n",
    "        df = filterByFields(df, fieldArray)\n",
    "        if (df.shape[0] > 3):\n",
    "            df = filterByInPersonEvent(df, inPersonArray)\n",
    "            if (df.shape[0] > 3):\n",
    "                df = filterByIdentity(df, identityArray)\n",
    "                if (df.shape[0] > 3):\n",
    "                    df = filterByInvolvement(df, involvementArray)\n",
    "    return df"
   ]
  },
  {
   "cell_type": "code",
   "execution_count": 546,
   "id": "eb0d830b",
   "metadata": {},
   "outputs": [],
   "source": [
    "def filterFieldsPersonInvolvementIdentity(origDf, fieldArray, identityArray, involvementArray, inPersonArray):\n",
    "    df = origDf.copy(deep = True)\n",
    "    if (df.shape[0] > 3):\n",
    "        df = filterByFields(df, fieldArray)\n",
    "        if (df.shape[0] > 3):\n",
    "            df = filterByInPersonEvent(df, inPersonArray)\n",
    "            if (df.shape[0] > 3):\n",
    "                df = filterByInvolvement(df, involvementArray)\n",
    "                if (df.shape[0] > 3):\n",
    "                    df = filterByIdentity(df, identityArray)\n",
    "    return df"
   ]
  },
  {
   "cell_type": "code",
   "execution_count": 547,
   "id": "5a7fbaba",
   "metadata": {},
   "outputs": [],
   "source": [
    "def getDfClosestTo3(df1, df2, df3, df4, df5, df6):\n",
    "    rowCount = [abs(df1.shape[0] - 3), abs(df2.shape[0] - 3), abs(df3.shape[0] - 3), abs(df4.shape[0] - 3), \n",
    "                abs(df5.shape[0] - 3), abs(df6.shape[0] - 3)]\n",
    "    \n",
    "    minValue = min(rowCount)\n",
    "    minIndex = rowCount.index(minValue)\n",
    "                \n",
    "    if (minIndex == 0):\n",
    "        dfToReturn = df1\n",
    "    elif (minIndex == 1):\n",
    "        dfToReturn = df2\n",
    "    elif (minIndex == 2):\n",
    "        dfToReturn = df3\n",
    "    elif (minIndex == 3):\n",
    "        dfToReturn = df4\n",
    "    elif (minIndex == 4):\n",
    "        dfToReturn = df5\n",
    "    elif (minIndex == 5):\n",
    "        dfToReturn = df6\n",
    "                \n",
    "    return dfToReturn"
   ]
  },
  {
   "cell_type": "code",
   "execution_count": null,
   "id": "3925a77c",
   "metadata": {},
   "outputs": [],
   "source": []
  },
  {
   "cell_type": "code",
   "execution_count": 548,
   "id": "9bf28c36",
   "metadata": {},
   "outputs": [],
   "source": [
    "def save_xls(df1, df2, xls_path):\n",
    "    with ExcelWriter(xls_path) as writer:\n",
    "        df1.to_excel(writer,'student')\n",
    "        df2.to_excel(writer,'alumni group')\n",
    "        writer.save()"
   ]
  },
  {
   "cell_type": "code",
   "execution_count": 549,
   "id": "5bf6a53e",
   "metadata": {},
   "outputs": [
    {
     "ename": "ValueError",
     "evalue": "I/O operation on closed file",
     "output_type": "error",
     "traceback": [
      "\u001b[0;31m---------------------------------------------------------------------------\u001b[0m",
      "\u001b[0;31mValueError\u001b[0m                                Traceback (most recent call last)",
      "Cell \u001b[0;32mIn[549], line 18\u001b[0m\n\u001b[1;32m     16\u001b[0m numOfRows \u001b[39m=\u001b[39m alumniToExport\u001b[39m.\u001b[39mshape[\u001b[39m0\u001b[39m]\n\u001b[1;32m     17\u001b[0m fileName \u001b[39m=\u001b[39m \u001b[39m\"\u001b[39m\u001b[39m/home/gabriel/BPP-pairing/\u001b[39m\u001b[39m\"\u001b[39m \u001b[39m+\u001b[39m email[\u001b[39m0\u001b[39m: email\u001b[39m.\u001b[39mfind(\u001b[39m'\u001b[39m\u001b[39m@\u001b[39m\u001b[39m'\u001b[39m)] \u001b[39m+\u001b[39m \u001b[39m'\u001b[39m\u001b[39m-\u001b[39m\u001b[39m'\u001b[39m \u001b[39m+\u001b[39m \u001b[39mstr\u001b[39m(numOfRows) \u001b[39m+\u001b[39m \u001b[39m'\u001b[39m\u001b[39m_Pairs.xlsx\u001b[39m\u001b[39m'\u001b[39m\n\u001b[0;32m---> 18\u001b[0m save_xls(studentToExport, alumniToExport, fileName)\n",
      "Cell \u001b[0;32mIn[548], line 2\u001b[0m, in \u001b[0;36msave_xls\u001b[0;34m(df1, df2, xls_path)\u001b[0m\n\u001b[1;32m      1\u001b[0m \u001b[39mdef\u001b[39;00m \u001b[39msave_xls\u001b[39m(df1, df2, xls_path):\n\u001b[0;32m----> 2\u001b[0m     \u001b[39mwith\u001b[39;00m ExcelWriter(xls_path) \u001b[39mas\u001b[39;00m writer:\n\u001b[1;32m      3\u001b[0m         df1\u001b[39m.\u001b[39mto_excel(writer,\u001b[39m'\u001b[39m\u001b[39mstudent\u001b[39m\u001b[39m'\u001b[39m)\n\u001b[1;32m      4\u001b[0m         df2\u001b[39m.\u001b[39mto_excel(writer,\u001b[39m'\u001b[39m\u001b[39malumni group\u001b[39m\u001b[39m'\u001b[39m)\n",
      "File \u001b[0;32m~/miniconda3/lib/python3.10/site-packages/pandas/io/excel/_base.py:1476\u001b[0m, in \u001b[0;36mExcelWriter.__exit__\u001b[0;34m(self, exc_type, exc_value, traceback)\u001b[0m\n\u001b[1;32m   1475\u001b[0m \u001b[39mdef\u001b[39;00m \u001b[39m__exit__\u001b[39m(\u001b[39mself\u001b[39m, exc_type, exc_value, traceback) \u001b[39m-\u001b[39m\u001b[39m>\u001b[39m \u001b[39mNone\u001b[39;00m:\n\u001b[0;32m-> 1476\u001b[0m     \u001b[39mself\u001b[39;49m\u001b[39m.\u001b[39;49mclose()\n",
      "File \u001b[0;32m~/miniconda3/lib/python3.10/site-packages/pandas/io/excel/_base.py:1480\u001b[0m, in \u001b[0;36mExcelWriter.close\u001b[0;34m(self)\u001b[0m\n\u001b[1;32m   1478\u001b[0m \u001b[39mdef\u001b[39;00m \u001b[39mclose\u001b[39m(\u001b[39mself\u001b[39m) \u001b[39m-\u001b[39m\u001b[39m>\u001b[39m \u001b[39mNone\u001b[39;00m:\n\u001b[1;32m   1479\u001b[0m \u001b[39m    \u001b[39m\u001b[39m\"\"\"synonym for save, to make it more file-like\"\"\"\u001b[39;00m\n\u001b[0;32m-> 1480\u001b[0m     \u001b[39mself\u001b[39;49m\u001b[39m.\u001b[39;49m_save()\n\u001b[1;32m   1481\u001b[0m     \u001b[39mself\u001b[39m\u001b[39m.\u001b[39m_handles\u001b[39m.\u001b[39mclose()\n",
      "File \u001b[0;32m~/miniconda3/lib/python3.10/site-packages/pandas/io/excel/_openpyxl.py:109\u001b[0m, in \u001b[0;36mOpenpyxlWriter._save\u001b[0;34m(self)\u001b[0m\n\u001b[1;32m    105\u001b[0m \u001b[39mdef\u001b[39;00m \u001b[39m_save\u001b[39m(\u001b[39mself\u001b[39m) \u001b[39m-\u001b[39m\u001b[39m>\u001b[39m \u001b[39mNone\u001b[39;00m:\n\u001b[1;32m    106\u001b[0m \u001b[39m    \u001b[39m\u001b[39m\"\"\"\u001b[39;00m\n\u001b[1;32m    107\u001b[0m \u001b[39m    Save workbook to disk.\u001b[39;00m\n\u001b[1;32m    108\u001b[0m \u001b[39m    \"\"\"\u001b[39;00m\n\u001b[0;32m--> 109\u001b[0m     \u001b[39mself\u001b[39;49m\u001b[39m.\u001b[39;49mbook\u001b[39m.\u001b[39;49msave(\u001b[39mself\u001b[39;49m\u001b[39m.\u001b[39;49m_handles\u001b[39m.\u001b[39;49mhandle)\n\u001b[1;32m    110\u001b[0m     \u001b[39mif\u001b[39;00m \u001b[39m\"\u001b[39m\u001b[39mr+\u001b[39m\u001b[39m\"\u001b[39m \u001b[39min\u001b[39;00m \u001b[39mself\u001b[39m\u001b[39m.\u001b[39m_mode \u001b[39mand\u001b[39;00m \u001b[39mnot\u001b[39;00m \u001b[39misinstance\u001b[39m(\u001b[39mself\u001b[39m\u001b[39m.\u001b[39m_handles\u001b[39m.\u001b[39mhandle, mmap\u001b[39m.\u001b[39mmmap):\n\u001b[1;32m    111\u001b[0m         \u001b[39m# truncate file to the written content\u001b[39;00m\n\u001b[1;32m    112\u001b[0m         \u001b[39mself\u001b[39m\u001b[39m.\u001b[39m_handles\u001b[39m.\u001b[39mhandle\u001b[39m.\u001b[39mtruncate()\n",
      "File \u001b[0;32m~/miniconda3/lib/python3.10/site-packages/openpyxl/workbook/workbook.py:407\u001b[0m, in \u001b[0;36mWorkbook.save\u001b[0;34m(self, filename)\u001b[0m\n\u001b[1;32m    405\u001b[0m \u001b[39mif\u001b[39;00m \u001b[39mself\u001b[39m\u001b[39m.\u001b[39mwrite_only \u001b[39mand\u001b[39;00m \u001b[39mnot\u001b[39;00m \u001b[39mself\u001b[39m\u001b[39m.\u001b[39mworksheets:\n\u001b[1;32m    406\u001b[0m     \u001b[39mself\u001b[39m\u001b[39m.\u001b[39mcreate_sheet()\n\u001b[0;32m--> 407\u001b[0m save_workbook(\u001b[39mself\u001b[39;49m, filename)\n",
      "File \u001b[0;32m~/miniconda3/lib/python3.10/site-packages/openpyxl/writer/excel.py:291\u001b[0m, in \u001b[0;36msave_workbook\u001b[0;34m(workbook, filename)\u001b[0m\n\u001b[1;32m    279\u001b[0m \u001b[39mdef\u001b[39;00m \u001b[39msave_workbook\u001b[39m(workbook, filename):\n\u001b[1;32m    280\u001b[0m \u001b[39m    \u001b[39m\u001b[39m\"\"\"Save the given workbook on the filesystem under the name filename.\u001b[39;00m\n\u001b[1;32m    281\u001b[0m \n\u001b[1;32m    282\u001b[0m \u001b[39m    :param workbook: the workbook to save\u001b[39;00m\n\u001b[0;32m   (...)\u001b[0m\n\u001b[1;32m    289\u001b[0m \n\u001b[1;32m    290\u001b[0m \u001b[39m    \"\"\"\u001b[39;00m\n\u001b[0;32m--> 291\u001b[0m     archive \u001b[39m=\u001b[39m ZipFile(filename, \u001b[39m'\u001b[39;49m\u001b[39mw\u001b[39;49m\u001b[39m'\u001b[39;49m, ZIP_DEFLATED, allowZip64\u001b[39m=\u001b[39;49m\u001b[39mTrue\u001b[39;49;00m)\n\u001b[1;32m    292\u001b[0m     writer \u001b[39m=\u001b[39m ExcelWriter(workbook, archive)\n\u001b[1;32m    293\u001b[0m     writer\u001b[39m.\u001b[39msave()\n",
      "File \u001b[0;32m~/miniconda3/lib/python3.10/zipfile.py:1273\u001b[0m, in \u001b[0;36mZipFile.__init__\u001b[0;34m(self, file, mode, compression, allowZip64, compresslevel, strict_timestamps)\u001b[0m\n\u001b[1;32m   1271\u001b[0m \u001b[39mself\u001b[39m\u001b[39m.\u001b[39m_didModify \u001b[39m=\u001b[39m \u001b[39mTrue\u001b[39;00m\n\u001b[1;32m   1272\u001b[0m \u001b[39mtry\u001b[39;00m:\n\u001b[0;32m-> 1273\u001b[0m     \u001b[39mself\u001b[39m\u001b[39m.\u001b[39mstart_dir \u001b[39m=\u001b[39m \u001b[39mself\u001b[39;49m\u001b[39m.\u001b[39;49mfp\u001b[39m.\u001b[39;49mtell()\n\u001b[1;32m   1274\u001b[0m \u001b[39mexcept\u001b[39;00m (\u001b[39mAttributeError\u001b[39;00m, \u001b[39mOSError\u001b[39;00m):\n\u001b[1;32m   1275\u001b[0m     \u001b[39mself\u001b[39m\u001b[39m.\u001b[39mfp \u001b[39m=\u001b[39m _Tellable(\u001b[39mself\u001b[39m\u001b[39m.\u001b[39mfp)\n",
      "\u001b[0;31mValueError\u001b[0m: I/O operation on closed file"
     ]
    }
   ],
   "source": [
    "for index, contents in studentRaw.iterrows():\n",
    "    fieldArray = getFieldsArray(contents)\n",
    "    identityArray = getIdentityArray(contents)\n",
    "    involvementArray = getInvolvementArray(contents)\n",
    "    inPersonArray = getInPersonArray(contents)\n",
    "    df1 = filterFieldsIdentityInvolvementPerson(alumniRaw, fieldArray, identityArray, involvementArray, inPersonArray)\n",
    "    df2 = filterFieldsIdentityPersonInvolvement(alumniRaw, fieldArray, identityArray, involvementArray, inPersonArray)\n",
    "    df3 = filterFieldsInvolvementPersonIdentity(alumniRaw, fieldArray, identityArray, involvementArray, inPersonArray)\n",
    "    df4 = filterFieldsInvolvementIdentityPerson(alumniRaw, fieldArray, identityArray, involvementArray, inPersonArray)\n",
    "    df5 = filterFieldsPersonIdentityInvolvement(alumniRaw, fieldArray, identityArray, involvementArray, inPersonArray)\n",
    "    df6 = filterFieldsPersonInvolvementIdentity(alumniRaw, fieldArray, identityArray, involvementArray, inPersonArray)\n",
    "    df = getDfClosestTo3(df1, df2, df3, df4, df5, df6)\n",
    "    email = contents['Email Address']\n",
    "    alumniToExport = alumniRaw[(alumniRaw['Email Address'].isin(df['Email Address']))]\n",
    "    studentToExport = studentRaw[studentRaw['Email Address'] == email]\n",
    "    numOfRows = alumniToExport.shape[0]\n",
    "    fileName = \"/home/gabriel/BPP-pairing/\" + email[0: email.find('@')] + '-' + str(numOfRows) + '_Pairs.xlsx'\n",
    "    save_xls(studentToExport, alumniToExport, fileName)"
   ]
  },
  {
   "cell_type": "code",
   "execution_count": null,
   "id": "56301f63",
   "metadata": {},
   "outputs": [],
   "source": []
  },
  {
   "cell_type": "code",
   "execution_count": null,
   "id": "e09d728a",
   "metadata": {},
   "outputs": [],
   "source": []
  }
 ],
 "metadata": {
  "kernelspec": {
   "display_name": "base",
   "language": "python",
   "name": "python3"
  },
  "language_info": {
   "codemirror_mode": {
    "name": "ipython",
    "version": 3
   },
   "file_extension": ".py",
   "mimetype": "text/x-python",
   "name": "python",
   "nbconvert_exporter": "python",
   "pygments_lexer": "ipython3",
   "version": "3.10.8"
  },
  "vscode": {
   "interpreter": {
    "hash": "2b4a37d195aade7314355fe3091875d416063d75fe271c81970592aee7116177"
   }
  }
 },
 "nbformat": 4,
 "nbformat_minor": 5
}
