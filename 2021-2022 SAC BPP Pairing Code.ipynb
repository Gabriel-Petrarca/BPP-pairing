{
 "cells": [
  {
   "cell_type": "code",
   "execution_count": 1,
   "id": "0f44ca23",
   "metadata": {},
   "outputs": [],
   "source": [
    "import pandas as pd\n",
    "from pandas import ExcelWriter"
   ]
  },
  {
   "cell_type": "code",
   "execution_count": 7,
   "id": "dc98df38",
   "metadata": {},
   "outputs": [],
   "source": [
    "alumniRaw = pd.read_csv(\"BPP Alumni Responses CSV.csv\")\n",
    "studentRaw = pd.read_csv(\"BPP Student Responses CSV.csv\")\n",
    "#alumniRaw = pd.read_csv(\"C:/Users/gorei/OneDrive/Documents/SAC Coding/BPP 2021-2022/BPP Alumni Responses CSV.csv\")\n",
    "#studentRaw = pd.read_csv(\"C:/Users/gorei/OneDrive/Documents/SAC Coding/BPP 2021-2022/BPP Student Responses CSV.csv\")"
   ]
  },
  {
   "cell_type": "code",
   "execution_count": 8,
   "id": "4c932940",
   "metadata": {},
   "outputs": [],
   "source": [
    "alumniColsToDrop = ['Start Date', 'How did you hear about Buckeye Pen Pals? - Other - Text', 'Graduation Year(s)', \n",
    "                    'Which of the following fields does your degree/career align with? - Other - Text', \n",
    "                    'Current employment: Company', 'Current employment: Title', \n",
    "                    'Briefly summarize your career path/goals in more detail.', \n",
    "                    'Were involved in any of the following extracurricular Activities? - Other - Text', \n",
    "                   'Do you have any involvements that you are passionate about and enjoy discussing? (OSU or non-OSU affiliated)',\n",
    "                   'Current Location: City, State (Country, if applicable)', \n",
    "                    'Hometown Information: City, State (Country, if applicable)', 'High School', \n",
    "                    'Please use the space below to give additional information about your identities. \\n\\n*This may include nationality, ethnicity, race, gender, sexuality, or any identities not listed above that are important to you. You can also elaborate on the selections above by providing your regional campus, military branch, etc. Please only share as much as you are comfortable with. This information will only be used to search for students who may also share these identities.', \n",
    "                   'Do you feel your personal experiences/identities would benefit a student of a particular background/identity?', \n",
    "                   'Additional Questions or Comments']\n",
    "alumni = alumniRaw.drop(alumniColsToDrop, axis=1)\n",
    "studentColsToDrop = ['What is your major(s) and/or minor(s)?', 'Briefly summarize your intended career goals in more detail.', \n",
    "                    'Please include any additional information about your involvement here.', \n",
    "                     'Is there anything else you are not formally involved with but are passionate about and enjoy discussing?', \n",
    "                    'Please use the space below to give additional information about your identities', \n",
    "                     'What would you most like to have in common with your pen pal?', \n",
    "                     'Do you have a gender, age, and/or identity preference for your pen pal?', \n",
    "                     'Are you looking to match with an alumni that has or does something specific?', \n",
    "                     'If you participated in Buckeye Pen Pals in the past, who were you previously matched with?', \n",
    "                    'How did you hear about Buckeye Pen Pals?']\n",
    "student = studentRaw.drop(studentColsToDrop, axis=1)"
   ]
  },
  {
   "cell_type": "code",
   "execution_count": 9,
   "id": "1fbd5099",
   "metadata": {},
   "outputs": [],
   "source": [
    "whatYearPlanGradFromOSU = ['2021', '2022', '2023', '2024', '2025', 'Later']\n",
    "highestLevelOfDegreeHopeToAchieve = ['Associate\\'s Degree', 'Bachelor\\'s Degree', 'Master\\'s Degree', 'Dpctpra; Degree']\n",
    "doCareerGoalsOrMajorAlignWithField = ['Natural & Mathematical Sciences', 'Engineering', 'Healthcare & Medicine', \n",
    "                                      'Education & Human Ecology', 'Business', 'Food & Agriculture', 'Politics & Law', \n",
    "                                     'Humanities (History, art, language, etc)', 'Not Listed or Undecided']\n",
    "involvedInFollowing = ['Student-Alumni Council (SAC)', 'Res Life or Hall Council (RA, OA, RHAC)', \n",
    "                       'Ohio Union Activities Board (OUAB)', 'Undergraduate Student Government (USG)', \n",
    "                       'Greek Life (Social or Academic)', 'Buck-I-Serv, BuckeyeThon, or Community Service Organization', \n",
    "                       'OSU Honary or Honors/Scholars Programs', 'On-campus job or work-study', \n",
    "                       'Athletic Organization (Block O, Studnet Athlete, Rec Sports, Running Club, etc)', \n",
    "                       'Religious Organization', 'Cultural Organization', 'Academic Organization', \n",
    "                       'Special Interest Organization']\n",
    "identifyWithIdentities = ['First-Generation College Student', 'LGBTQ+', 'BIPOC', 'ROTC Student or Military Family', \n",
    "                         'International Student', 'Out-of-State Student', 'Commuter Student', 'Transfer Student', \n",
    "                          'Religious Campus Student']\n",
    "interestedMeetingInPerson = ['Yes', 'No']"
   ]
  },
  {
   "cell_type": "code",
   "execution_count": 10,
   "id": "b296cef5",
   "metadata": {},
   "outputs": [],
   "source": [
    "def filterByFields(origDf, filterField):\n",
    "    df = origDf.copy(deep = True)\n",
    "    for index, contents in origDf.iterrows():\n",
    "        field = contents['Which of the following fields does your degree/career align with? - Selected Choice']\n",
    "        if (pd.isnull(field)):\n",
    "            field = ''\n",
    "        fieldInFilter = False\n",
    "        for i in filterField:\n",
    "            if (-1 < field.find(i)):\n",
    "                fieldInFilter = True\n",
    "        if (fieldInFilter == False and field != ''):\n",
    "            df = df.drop(index)\n",
    "    return df"
   ]
  },
  {
   "cell_type": "code",
   "execution_count": 11,
   "id": "5bccf904",
   "metadata": {},
   "outputs": [],
   "source": [
    "def filterByIdentity(origDf, filterIdentity):\n",
    "    df = origDf.copy(deep = True)\n",
    "    for index, contents in origDf.iterrows():\n",
    "        field = contents['Did you/do you identify with any of the following identities?']\n",
    "        if (pd.isnull(field)):\n",
    "            field = ''\n",
    "        fieldInFilter = False\n",
    "        for i in filterIdentity:\n",
    "            if (-1 < field.find(i)):\n",
    "                fieldInFilter = True\n",
    "        if (fieldInFilter == False and field != ''):\n",
    "            df = df.drop(index)\n",
    "    return df"
   ]
  },
  {
   "cell_type": "code",
   "execution_count": 12,
   "id": "cc2bfbbe",
   "metadata": {},
   "outputs": [],
   "source": [
    "def filterByInvolvement(origDf, filterInvolvement):\n",
    "    df = origDf.copy(deep = True)\n",
    "    for index, contents in origDf.iterrows():\n",
    "        field = contents['Were involved in any of the following extracurricular Activities? - Selected Choice']\n",
    "        if (pd.isnull(field)):\n",
    "            field = ''\n",
    "        fieldInFilter = False\n",
    "        for i in filterInvolvement:\n",
    "            if (-1 < field.find(i)):\n",
    "                fieldInFilter = True\n",
    "        if (fieldInFilter == False and field != ''):\n",
    "            df = df.drop(index)\n",
    "    return df"
   ]
  },
  {
   "cell_type": "code",
   "execution_count": 13,
   "id": "87665808",
   "metadata": {},
   "outputs": [],
   "source": [
    "def filterByInPersonEvent(origDf, filterInPerson):\n",
    "    df = origDf.copy(deep = True)\n",
    "    for index, contents in origDf.iterrows():\n",
    "        field = contents['Would you be interested in attending an in-person event to meet your pen pal in Columbus, OH?']\n",
    "        if (pd.isnull(field)):\n",
    "            field = ''\n",
    "        fieldInFilter = False\n",
    "        for i in filterInPerson:\n",
    "            if (-1 < field.find(i)):\n",
    "                fieldInFilter = True\n",
    "        if (fieldInFilter == False and field != ''):\n",
    "            df = df.drop(index)\n",
    "    return df"
   ]
  },
  {
   "cell_type": "code",
   "execution_count": 14,
   "id": "e7125379",
   "metadata": {},
   "outputs": [],
   "source": [
    "def getFieldsArray(studentRow):\n",
    "    fields = studentRow['Do your career goals or major(s) align with any of the following fields?']\n",
    "    if (pd.isnull(fields)):\n",
    "            fields = ''\n",
    "    fieldsArray = []\n",
    "    for i in doCareerGoalsOrMajorAlignWithField:\n",
    "        if (-1 < fields.find(i)):\n",
    "            fieldsArray.insert(len(fieldsArray), i)\n",
    "    return fieldsArray"
   ]
  },
  {
   "cell_type": "code",
   "execution_count": 15,
   "id": "d1a1a8f4",
   "metadata": {},
   "outputs": [],
   "source": [
    "def getIdentityArray(studentRow):\n",
    "    identities = studentRow['Do you identify with any of the following identities?']\n",
    "    if (pd.isnull(identities)):\n",
    "            identities = ''\n",
    "    identityArray = []\n",
    "    for i in identifyWithIdentities:\n",
    "        if (-1 < identities.find(i)):\n",
    "            identityArray.insert(len(identityArray), i)\n",
    "    return identityArray"
   ]
  },
  {
   "cell_type": "code",
   "execution_count": 16,
   "id": "203c0cb7",
   "metadata": {},
   "outputs": [],
   "source": [
    "def getInvolvementArray(studentRow):\n",
    "    involvements = studentRow['Are you involved in any of the following?']\n",
    "    if (pd.isnull(involvements)):\n",
    "            involvements = ''\n",
    "    involvementArray = []\n",
    "    for i in involvedInFollowing:\n",
    "        if (-1 < involvements.find(i)):\n",
    "            involvementArray.insert(len(involvementArray), i)\n",
    "    return involvementArray"
   ]
  },
  {
   "cell_type": "code",
   "execution_count": 17,
   "id": "fc932702",
   "metadata": {},
   "outputs": [],
   "source": [
    "def getInPersonArray(studentRow):\n",
    "    inPerson = studentRow['Would you be interested in attending an event to meet your pen pal in person?']\n",
    "    inPersonArray = []\n",
    "    for i in interestedMeetingInPerson:\n",
    "        if (-1 < inPerson.find(i)):\n",
    "            inPersonArray.insert(len(inPersonArray), i)\n",
    "    return inPersonArray"
   ]
  },
  {
   "cell_type": "code",
   "execution_count": 18,
   "id": "389f2f90",
   "metadata": {},
   "outputs": [],
   "source": [
    "def filterFieldsIdentityInvolvementPerson(origDf, fieldArray, identityArray, involvementArray, inPersonArray):\n",
    "    df = origDf.copy(deep = True)\n",
    "    if (df.shape[0] > 30):\n",
    "        df = filterByFields(df, fieldArray)\n",
    "        if (df.shape[0] > 30):\n",
    "            df = filterByIdentity(df, identityArray)\n",
    "            if (df.shape[0] > 30):\n",
    "                df = filterByInvolvement(df, involvementArray)\n",
    "                if (df.shape[0] > 30):\n",
    "                    df = filterByInPersonEvent(df, inPersonArray)\n",
    "    return df"
   ]
  },
  {
   "cell_type": "code",
   "execution_count": 19,
   "id": "1a38497e",
   "metadata": {},
   "outputs": [],
   "source": [
    "def filterFieldsIdentityPersonInvolvement(origDf, fieldArray, identityArray, involvementArray, inPersonArray):\n",
    "    df = origDf.copy(deep = True)\n",
    "    if (df.shape[0] > 30):\n",
    "        df = filterByFields(df, fieldArray)\n",
    "        if (df.shape[0] > 30):\n",
    "            df = filterByIdentity(df, identityArray)\n",
    "            if (df.shape[0] > 30):\n",
    "                df = filterByInPersonEvent(df, inPersonArray)\n",
    "                if (df.shape[0] > 30):\n",
    "                    df = filterByInvolvement(df, involvementArray)\n",
    "    return df"
   ]
  },
  {
   "cell_type": "code",
   "execution_count": 20,
   "id": "b5f268f3",
   "metadata": {},
   "outputs": [],
   "source": [
    "def filterFieldsInvolvementPersonIdentity(origDf, fieldArray, identityArray, involvementArray, inPersonArray):\n",
    "    df = origDf.copy(deep = True)\n",
    "    if (df.shape[0] > 30):\n",
    "        df = filterByFields(df, fieldArray)\n",
    "        if (df.shape[0] > 30):\n",
    "            df = filterByInvolvement(df, involvementArray)\n",
    "            if (df.shape[0] > 30):\n",
    "                df = filterByInPersonEvent(df, inPersonArray)\n",
    "                if (df.shape[0] > 30):\n",
    "                    df = filterByIdentity(df, identityArray)\n",
    "    return df"
   ]
  },
  {
   "cell_type": "code",
   "execution_count": 21,
   "id": "807ba2c4",
   "metadata": {},
   "outputs": [],
   "source": [
    "def filterFieldsInvolvementIdentityPerson(origDf, fieldArray, identityArray, involvementArray, inPersonArray):\n",
    "    df = origDf.copy(deep = True)\n",
    "    if (df.shape[0] > 30):\n",
    "        df = filterByFields(df, fieldArray)\n",
    "        if (df.shape[0] > 30):\n",
    "            df = filterByInvolvement(df, involvementArray)\n",
    "            if (df.shape[0] > 30):\n",
    "                df = filterByIdentity(df, identityArray)\n",
    "                if (df.shape[0] > 30):\n",
    "                    df = filterByInPersonEvent(df, inPersonArray)\n",
    "    return df"
   ]
  },
  {
   "cell_type": "code",
   "execution_count": 22,
   "id": "72039c98",
   "metadata": {},
   "outputs": [],
   "source": [
    "def filterFieldsPersonIdentityInvolvement(origDf, fieldArray, identityArray, involvementArray, inPersonArray):\n",
    "    df = origDf.copy(deep = True)\n",
    "    if (df.shape[0] > 30):\n",
    "        df = filterByFields(df, fieldArray)\n",
    "        if (df.shape[0] > 30):\n",
    "            df = filterByInPersonEvent(df, inPersonArray)\n",
    "            if (df.shape[0] > 30):\n",
    "                df = filterByIdentity(df, identityArray)\n",
    "                if (df.shape[0] > 30):\n",
    "                    df = filterByInvolvement(df, involvementArray)\n",
    "    return df"
   ]
  },
  {
   "cell_type": "code",
   "execution_count": 23,
   "id": "eb0d830b",
   "metadata": {},
   "outputs": [],
   "source": [
    "def filterFieldsPersonInvolvementIdentity(origDf, fieldArray, identityArray, involvementArray, inPersonArray):\n",
    "    df = origDf.copy(deep = True)\n",
    "    if (df.shape[0] > 30):\n",
    "        df = filterByFields(df, fieldArray)\n",
    "        if (df.shape[0] > 30):\n",
    "            df = filterByInPersonEvent(df, inPersonArray)\n",
    "            if (df.shape[0] > 30):\n",
    "                df = filterByInvolvement(df, involvementArray)\n",
    "                if (df.shape[0] > 30):\n",
    "                    df = filterByIdentity(df, identityArray)\n",
    "    return df"
   ]
  },
  {
   "cell_type": "code",
   "execution_count": 24,
   "id": "5a7fbaba",
   "metadata": {},
   "outputs": [],
   "source": [
    "def getDfClosestTo30(df1, df2, df3, df4, df5, df6):\n",
    "    rowCount = [abs(df1.shape[0] - 30), abs(df2.shape[0] - 30), abs(df3.shape[0] - 30), abs(df4.shape[0] - 30), \n",
    "                abs(df5.shape[0] - 30), abs(df6.shape[0] - 30)]\n",
    "    \n",
    "    minValue = min(rowCount)\n",
    "    minIndex = rowCount.index(minValue)\n",
    "                \n",
    "    if (minIndex == 0):\n",
    "        dfToReturn = df1\n",
    "    elif (minIndex == 1):\n",
    "        dfToReturn = df2\n",
    "    elif (minIndex == 2):\n",
    "        dfToReturn = df3\n",
    "    elif (minIndex == 3):\n",
    "        dfToReturn = df4\n",
    "    elif (minIndex == 4):\n",
    "        dfToReturn = df5\n",
    "    elif (minIndex == 5):\n",
    "        dfToReturn = df6\n",
    "                \n",
    "    return dfToReturn"
   ]
  },
  {
   "cell_type": "code",
   "execution_count": null,
   "id": "3925a77c",
   "metadata": {},
   "outputs": [],
   "source": []
  },
  {
   "cell_type": "code",
   "execution_count": 25,
   "id": "9bf28c36",
   "metadata": {},
   "outputs": [],
   "source": [
    "def save_xls(df1, df2, xls_path):\n",
    "    with ExcelWriter(xls_path) as writer:\n",
    "        df1.to_excel(writer,'student')\n",
    "        df2.to_excel(writer,'alumni group')\n",
    "        writer.save()"
   ]
  },
  {
   "cell_type": "code",
   "execution_count": 27,
   "id": "5bf6a53e",
   "metadata": {},
   "outputs": [],
   "source": [
    "for index, contents in student.iterrows():\n",
    "    fieldArray = getFieldsArray(contents)\n",
    "    identityArray = getIdentityArray(contents)\n",
    "    involvementArray = getInvolvementArray(contents)\n",
    "    inPersonArray = getInPersonArray(contents)\n",
    "    df1 = filterFieldsIdentityInvolvementPerson(alumni, fieldArray, identityArray, involvementArray, inPersonArray)\n",
    "    df2 = filterFieldsIdentityPersonInvolvement(alumni, fieldArray, identityArray, involvementArray, inPersonArray)\n",
    "    df3 = filterFieldsInvolvementPersonIdentity(alumni, fieldArray, identityArray, involvementArray, inPersonArray)\n",
    "    df4 = filterFieldsInvolvementIdentityPerson(alumni, fieldArray, identityArray, involvementArray, inPersonArray)\n",
    "    df5 = filterFieldsPersonIdentityInvolvement(alumni, fieldArray, identityArray, involvementArray, inPersonArray)\n",
    "    df6 = filterFieldsPersonInvolvementIdentity(alumni, fieldArray, identityArray, involvementArray, inPersonArray)\n",
    "    df = getDfClosestTo30(df1, df2, df3, df4, df5, df6)\n",
    "    email = contents['Email Address']\n",
    "    alumniToExport = alumniRaw[(alumniRaw['Email Address'].isin(df['Email Address']))]\n",
    "    studentToExport = studentRaw[studentRaw['Email Address'] == email]\n",
    "    numOfRows = alumniToExport.shape[0]\n",
    "    fileName = \"Student-Alumni-Pairings/\" + email[0: email.find('@')] + '-' + str(numOfRows) + '_Pairs.xlsx'\n",
    "    #if (numOfRows >= 15):\n",
    "    save_xls(studentToExport, alumniToExport, fileName)"
   ]
  },
  {
   "cell_type": "code",
   "execution_count": null,
   "id": "56301f63",
   "metadata": {},
   "outputs": [],
   "source": []
  },
  {
   "cell_type": "code",
   "execution_count": null,
   "id": "e09d728a",
   "metadata": {},
   "outputs": [],
   "source": []
  }
 ],
 "metadata": {
  "kernelspec": {
   "display_name": "Python 3 (ipykernel)",
   "language": "python",
   "name": "python3"
  },
  "language_info": {
   "codemirror_mode": {
    "name": "ipython",
    "version": 3
   },
   "file_extension": ".py",
   "mimetype": "text/x-python",
   "name": "python",
   "nbconvert_exporter": "python",
   "pygments_lexer": "ipython3",
   "version": "3.9.7"
  }
 },
 "nbformat": 4,
 "nbformat_minor": 5
}
