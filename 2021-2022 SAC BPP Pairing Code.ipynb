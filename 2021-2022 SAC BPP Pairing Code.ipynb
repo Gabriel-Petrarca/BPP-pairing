{
 "cells": [
  {
   "cell_type": "code",
   "execution_count": 41,
   "id": "0f44ca23",
   "metadata": {},
   "outputs": [],
   "source": [
    "import pandas as pd\n",
    "from pandas import ExcelWriter"
   ]
  },
  {
   "cell_type": "code",
   "execution_count": 42,
   "id": "dc98df38",
   "metadata": {},
   "outputs": [],
   "source": [
    "alumniRaw = pd.read_csv(\"/home/gabriel/BPP-pairing/BPP Alumni Responses CSV.csv\")\n",
    "studentRaw = pd.read_csv(\"/home/gabriel/BPP-pairing/BPP Student Responses CSV.csv\")\n",
    "#alumniRaw = pd.read_csv(\"C:/Users/gorei/OneDrive/Documents/SAC Coding/BPP 2021-2022/BPP Alumni Responses CSV.csv\")\n",
    "#studentRaw = pd.read_csv(\"C:/Users/gorei/OneDrive/Documents/SAC Coding/BPP 2021-2022/BPP Student Responses CSV.csv\")"
   ]
  },
  {
   "cell_type": "code",
   "execution_count": 43,
   "id": "4c932940",
   "metadata": {},
   "outputs": [
    {
     "ename": "KeyError",
     "evalue": "\"['Start Date', 'How did you hear about Buckeye Pen Pals? - Other - Text', 'Graduation Year(s)', 'Which of the following fields does your degree/career align with? - Other - Text', 'Current employment: Company', 'Current employment: Title', 'Briefly summarize your career path/goals in more detail.', 'Were involved in any of the following extracurricular Activities? - Other - Text', 'Do you have any involvements that you are passionate about and enjoy discussing? (OSU or non-OSU affiliated)', 'Current Location: City, State (Country, if applicable)', 'Hometown Information: City, State (Country, if applicable)', 'High School', 'Please use the space below to give additional information about your identities. \\\\n\\\\n*This may include nationality, ethnicity, race, gender, sexuality, or any identities not listed above that are important to you. You can also elaborate on the selections above by providing your regional campus, military branch, etc. Please only share as much as you are comfortable with. This information will only be used to search for students who may also share these identities.', 'Do you feel your personal experiences/identities would benefit a student of a particular background/identity?', 'Additional Questions or Comments'] not found in axis\"",
     "output_type": "error",
     "traceback": [
      "\u001b[0;31m---------------------------------------------------------------------------\u001b[0m",
      "\u001b[0;31mKeyError\u001b[0m                                  Traceback (most recent call last)",
      "Cell \u001b[0;32mIn[43], line 12\u001b[0m\n\u001b[1;32m      1\u001b[0m alumniColsToDrop \u001b[39m=\u001b[39m [\u001b[39m'\u001b[39m\u001b[39mStart Date\u001b[39m\u001b[39m'\u001b[39m, \u001b[39m'\u001b[39m\u001b[39mHow did you hear about Buckeye Pen Pals? - Other - Text\u001b[39m\u001b[39m'\u001b[39m, \u001b[39m'\u001b[39m\u001b[39mGraduation Year(s)\u001b[39m\u001b[39m'\u001b[39m, \n\u001b[1;32m      2\u001b[0m                     \u001b[39m'\u001b[39m\u001b[39mWhich of the following fields does your degree/career align with? - Other - Text\u001b[39m\u001b[39m'\u001b[39m, \n\u001b[1;32m      3\u001b[0m                     \u001b[39m'\u001b[39m\u001b[39mCurrent employment: Company\u001b[39m\u001b[39m'\u001b[39m, \u001b[39m'\u001b[39m\u001b[39mCurrent employment: Title\u001b[39m\u001b[39m'\u001b[39m, \n\u001b[0;32m   (...)\u001b[0m\n\u001b[1;32m     10\u001b[0m                    \u001b[39m'\u001b[39m\u001b[39mDo you feel your personal experiences/identities would benefit a student of a particular background/identity?\u001b[39m\u001b[39m'\u001b[39m, \n\u001b[1;32m     11\u001b[0m                    \u001b[39m'\u001b[39m\u001b[39mAdditional Questions or Comments\u001b[39m\u001b[39m'\u001b[39m]\n\u001b[0;32m---> 12\u001b[0m alumni \u001b[39m=\u001b[39m alumniRaw\u001b[39m.\u001b[39;49mdrop(alumniColsToDrop, axis\u001b[39m=\u001b[39;49m\u001b[39m1\u001b[39;49m)\n\u001b[1;32m     13\u001b[0m studentColsToDrop \u001b[39m=\u001b[39m [\u001b[39m'\u001b[39m\u001b[39mWhat is your major(s) and/or minor(s)?\u001b[39m\u001b[39m'\u001b[39m, \u001b[39m'\u001b[39m\u001b[39mBriefly summarize your intended career goals in more detail.\u001b[39m\u001b[39m'\u001b[39m, \n\u001b[1;32m     14\u001b[0m                     \u001b[39m'\u001b[39m\u001b[39mPlease include any additional information about your involvement here.\u001b[39m\u001b[39m'\u001b[39m, \n\u001b[1;32m     15\u001b[0m                      \u001b[39m'\u001b[39m\u001b[39mIs there anything else you are not formally involved with but are passionate about and enjoy discussing?\u001b[39m\u001b[39m'\u001b[39m, \n\u001b[0;32m   (...)\u001b[0m\n\u001b[1;32m     20\u001b[0m                      \u001b[39m'\u001b[39m\u001b[39mIf you participated in Buckeye Pen Pals in the past, who were you previously matched with?\u001b[39m\u001b[39m'\u001b[39m, \n\u001b[1;32m     21\u001b[0m                     \u001b[39m'\u001b[39m\u001b[39mHow did you hear about Buckeye Pen Pals?\u001b[39m\u001b[39m'\u001b[39m]\n\u001b[1;32m     22\u001b[0m student \u001b[39m=\u001b[39m studentRaw\u001b[39m.\u001b[39mdrop(studentColsToDrop, axis\u001b[39m=\u001b[39m\u001b[39m1\u001b[39m)\n",
      "File \u001b[0;32m~/miniconda3/lib/python3.10/site-packages/pandas/util/_decorators.py:331\u001b[0m, in \u001b[0;36mdeprecate_nonkeyword_arguments.<locals>.decorate.<locals>.wrapper\u001b[0;34m(*args, **kwargs)\u001b[0m\n\u001b[1;32m    325\u001b[0m \u001b[39mif\u001b[39;00m \u001b[39mlen\u001b[39m(args) \u001b[39m>\u001b[39m num_allow_args:\n\u001b[1;32m    326\u001b[0m     warnings\u001b[39m.\u001b[39mwarn(\n\u001b[1;32m    327\u001b[0m         msg\u001b[39m.\u001b[39mformat(arguments\u001b[39m=\u001b[39m_format_argument_list(allow_args)),\n\u001b[1;32m    328\u001b[0m         \u001b[39mFutureWarning\u001b[39;00m,\n\u001b[1;32m    329\u001b[0m         stacklevel\u001b[39m=\u001b[39mfind_stack_level(),\n\u001b[1;32m    330\u001b[0m     )\n\u001b[0;32m--> 331\u001b[0m \u001b[39mreturn\u001b[39;00m func(\u001b[39m*\u001b[39;49margs, \u001b[39m*\u001b[39;49m\u001b[39m*\u001b[39;49mkwargs)\n",
      "File \u001b[0;32m~/miniconda3/lib/python3.10/site-packages/pandas/core/frame.py:5396\u001b[0m, in \u001b[0;36mDataFrame.drop\u001b[0;34m(self, labels, axis, index, columns, level, inplace, errors)\u001b[0m\n\u001b[1;32m   5248\u001b[0m \u001b[39m@deprecate_nonkeyword_arguments\u001b[39m(version\u001b[39m=\u001b[39m\u001b[39mNone\u001b[39;00m, allowed_args\u001b[39m=\u001b[39m[\u001b[39m\"\u001b[39m\u001b[39mself\u001b[39m\u001b[39m\"\u001b[39m, \u001b[39m\"\u001b[39m\u001b[39mlabels\u001b[39m\u001b[39m\"\u001b[39m])\n\u001b[1;32m   5249\u001b[0m \u001b[39mdef\u001b[39;00m \u001b[39mdrop\u001b[39m(  \u001b[39m# type: ignore[override]\u001b[39;00m\n\u001b[1;32m   5250\u001b[0m     \u001b[39mself\u001b[39m,\n\u001b[0;32m   (...)\u001b[0m\n\u001b[1;32m   5257\u001b[0m     errors: IgnoreRaise \u001b[39m=\u001b[39m \u001b[39m\"\u001b[39m\u001b[39mraise\u001b[39m\u001b[39m\"\u001b[39m,\n\u001b[1;32m   5258\u001b[0m ) \u001b[39m-\u001b[39m\u001b[39m>\u001b[39m DataFrame \u001b[39m|\u001b[39m \u001b[39mNone\u001b[39;00m:\n\u001b[1;32m   5259\u001b[0m \u001b[39m    \u001b[39m\u001b[39m\"\"\"\u001b[39;00m\n\u001b[1;32m   5260\u001b[0m \u001b[39m    Drop specified labels from rows or columns.\u001b[39;00m\n\u001b[1;32m   5261\u001b[0m \n\u001b[0;32m   (...)\u001b[0m\n\u001b[1;32m   5394\u001b[0m \u001b[39m            weight  1.0     0.8\u001b[39;00m\n\u001b[1;32m   5395\u001b[0m \u001b[39m    \"\"\"\u001b[39;00m\n\u001b[0;32m-> 5396\u001b[0m     \u001b[39mreturn\u001b[39;00m \u001b[39msuper\u001b[39;49m()\u001b[39m.\u001b[39;49mdrop(\n\u001b[1;32m   5397\u001b[0m         labels\u001b[39m=\u001b[39;49mlabels,\n\u001b[1;32m   5398\u001b[0m         axis\u001b[39m=\u001b[39;49maxis,\n\u001b[1;32m   5399\u001b[0m         index\u001b[39m=\u001b[39;49mindex,\n\u001b[1;32m   5400\u001b[0m         columns\u001b[39m=\u001b[39;49mcolumns,\n\u001b[1;32m   5401\u001b[0m         level\u001b[39m=\u001b[39;49mlevel,\n\u001b[1;32m   5402\u001b[0m         inplace\u001b[39m=\u001b[39;49minplace,\n\u001b[1;32m   5403\u001b[0m         errors\u001b[39m=\u001b[39;49merrors,\n\u001b[1;32m   5404\u001b[0m     )\n",
      "File \u001b[0;32m~/miniconda3/lib/python3.10/site-packages/pandas/util/_decorators.py:331\u001b[0m, in \u001b[0;36mdeprecate_nonkeyword_arguments.<locals>.decorate.<locals>.wrapper\u001b[0;34m(*args, **kwargs)\u001b[0m\n\u001b[1;32m    325\u001b[0m \u001b[39mif\u001b[39;00m \u001b[39mlen\u001b[39m(args) \u001b[39m>\u001b[39m num_allow_args:\n\u001b[1;32m    326\u001b[0m     warnings\u001b[39m.\u001b[39mwarn(\n\u001b[1;32m    327\u001b[0m         msg\u001b[39m.\u001b[39mformat(arguments\u001b[39m=\u001b[39m_format_argument_list(allow_args)),\n\u001b[1;32m    328\u001b[0m         \u001b[39mFutureWarning\u001b[39;00m,\n\u001b[1;32m    329\u001b[0m         stacklevel\u001b[39m=\u001b[39mfind_stack_level(),\n\u001b[1;32m    330\u001b[0m     )\n\u001b[0;32m--> 331\u001b[0m \u001b[39mreturn\u001b[39;00m func(\u001b[39m*\u001b[39;49margs, \u001b[39m*\u001b[39;49m\u001b[39m*\u001b[39;49mkwargs)\n",
      "File \u001b[0;32m~/miniconda3/lib/python3.10/site-packages/pandas/core/generic.py:4505\u001b[0m, in \u001b[0;36mNDFrame.drop\u001b[0;34m(self, labels, axis, index, columns, level, inplace, errors)\u001b[0m\n\u001b[1;32m   4503\u001b[0m \u001b[39mfor\u001b[39;00m axis, labels \u001b[39min\u001b[39;00m axes\u001b[39m.\u001b[39mitems():\n\u001b[1;32m   4504\u001b[0m     \u001b[39mif\u001b[39;00m labels \u001b[39mis\u001b[39;00m \u001b[39mnot\u001b[39;00m \u001b[39mNone\u001b[39;00m:\n\u001b[0;32m-> 4505\u001b[0m         obj \u001b[39m=\u001b[39m obj\u001b[39m.\u001b[39;49m_drop_axis(labels, axis, level\u001b[39m=\u001b[39;49mlevel, errors\u001b[39m=\u001b[39;49merrors)\n\u001b[1;32m   4507\u001b[0m \u001b[39mif\u001b[39;00m inplace:\n\u001b[1;32m   4508\u001b[0m     \u001b[39mself\u001b[39m\u001b[39m.\u001b[39m_update_inplace(obj)\n",
      "File \u001b[0;32m~/miniconda3/lib/python3.10/site-packages/pandas/core/generic.py:4546\u001b[0m, in \u001b[0;36mNDFrame._drop_axis\u001b[0;34m(self, labels, axis, level, errors, only_slice)\u001b[0m\n\u001b[1;32m   4544\u001b[0m         new_axis \u001b[39m=\u001b[39m axis\u001b[39m.\u001b[39mdrop(labels, level\u001b[39m=\u001b[39mlevel, errors\u001b[39m=\u001b[39merrors)\n\u001b[1;32m   4545\u001b[0m     \u001b[39melse\u001b[39;00m:\n\u001b[0;32m-> 4546\u001b[0m         new_axis \u001b[39m=\u001b[39m axis\u001b[39m.\u001b[39;49mdrop(labels, errors\u001b[39m=\u001b[39;49merrors)\n\u001b[1;32m   4547\u001b[0m     indexer \u001b[39m=\u001b[39m axis\u001b[39m.\u001b[39mget_indexer(new_axis)\n\u001b[1;32m   4549\u001b[0m \u001b[39m# Case for non-unique axis\u001b[39;00m\n\u001b[1;32m   4550\u001b[0m \u001b[39melse\u001b[39;00m:\n",
      "File \u001b[0;32m~/miniconda3/lib/python3.10/site-packages/pandas/core/indexes/base.py:6977\u001b[0m, in \u001b[0;36mIndex.drop\u001b[0;34m(self, labels, errors)\u001b[0m\n\u001b[1;32m   6975\u001b[0m \u001b[39mif\u001b[39;00m mask\u001b[39m.\u001b[39many():\n\u001b[1;32m   6976\u001b[0m     \u001b[39mif\u001b[39;00m errors \u001b[39m!=\u001b[39m \u001b[39m\"\u001b[39m\u001b[39mignore\u001b[39m\u001b[39m\"\u001b[39m:\n\u001b[0;32m-> 6977\u001b[0m         \u001b[39mraise\u001b[39;00m \u001b[39mKeyError\u001b[39;00m(\u001b[39mf\u001b[39m\u001b[39m\"\u001b[39m\u001b[39m{\u001b[39;00m\u001b[39mlist\u001b[39m(labels[mask])\u001b[39m}\u001b[39;00m\u001b[39m not found in axis\u001b[39m\u001b[39m\"\u001b[39m)\n\u001b[1;32m   6978\u001b[0m     indexer \u001b[39m=\u001b[39m indexer[\u001b[39m~\u001b[39mmask]\n\u001b[1;32m   6979\u001b[0m \u001b[39mreturn\u001b[39;00m \u001b[39mself\u001b[39m\u001b[39m.\u001b[39mdelete(indexer)\n",
      "\u001b[0;31mKeyError\u001b[0m: \"['Start Date', 'How did you hear about Buckeye Pen Pals? - Other - Text', 'Graduation Year(s)', 'Which of the following fields does your degree/career align with? - Other - Text', 'Current employment: Company', 'Current employment: Title', 'Briefly summarize your career path/goals in more detail.', 'Were involved in any of the following extracurricular Activities? - Other - Text', 'Do you have any involvements that you are passionate about and enjoy discussing? (OSU or non-OSU affiliated)', 'Current Location: City, State (Country, if applicable)', 'Hometown Information: City, State (Country, if applicable)', 'High School', 'Please use the space below to give additional information about your identities. \\\\n\\\\n*This may include nationality, ethnicity, race, gender, sexuality, or any identities not listed above that are important to you. You can also elaborate on the selections above by providing your regional campus, military branch, etc. Please only share as much as you are comfortable with. This information will only be used to search for students who may also share these identities.', 'Do you feel your personal experiences/identities would benefit a student of a particular background/identity?', 'Additional Questions or Comments'] not found in axis\""
     ]
    }
   ],
   "source": [
    "# alumniColsToDrop = ['StartDate', 'How did you hear about Buckeye Pen Pals? - Other - Text', 'Graduation Year(s)', \n",
    "#                     'Which of the following fields does your degree/career align with? - Other - Text', \n",
    "#                     'Current employment: Company', 'Current employment: Title', \n",
    "#                     'Briefly summarize your career path/goals in more detail.', \n",
    "#                     'Were involved in any of the following extracurricular Activities? - Other - Text', \n",
    "#                    'Do you have any involvements that you are passionate about and enjoy discussing? (OSU or non-OSU affiliated)',\n",
    "#                    'Current Location: City, State (Country, if applicable)', \n",
    "#                     'Hometown Information: City, State (Country, if applicable)', 'High School', \n",
    "#                     'Please use the space below to give additional information about your identities. \\n\\n*This may include nationality, ethnicity, race, gender, sexuality, or any identities not listed above that are important to you. You can also elaborate on the selections above by providing your regional campus, military branch, etc. Please only share as much as you are comfortable with. This information will only be used to search for students who may also share these identities.', \n",
    "#                    'Do you feel your personal experiences/identities would benefit a student of a particular background/identity?', \n",
    "#                    'Additional Questions or Comments']\n",
    "# alumni = alumniRaw.drop(alumniColsToDrop, axis=1)\n",
    "# studentColsToDrop = ['What is your major(s) and/or minor(s)?', 'Briefly summarize your intended career goals in more detail.', \n",
    "#                     'Please include any additional information about your involvement here.', \n",
    "#                      'Is there anything else you are not formally involved with but are passionate about and enjoy discussing?', \n",
    "#                     'Please use the space below to give additional information about your identities', \n",
    "#                      'What would you most like to have in common with your pen pal?', \n",
    "#                      'Do you have a gender, age, and/or identity preference for your pen pal?', \n",
    "#                      'Are you looking to match with an alumni that has or does something specific?', \n",
    "#                      'If you participated in Buckeye Pen Pals in the past, who were you previously matched with?', \n",
    "#                     'How did you hear about Buckeye Pen Pals?']\n",
    "# student = studentRaw.drop(studentColsToDrop, axis=1)"
   ]
  },
  {
   "cell_type": "code",
   "execution_count": null,
   "id": "1fbd5099",
   "metadata": {},
   "outputs": [],
   "source": [
    "whatYearPlanGradFromOSU = ['2023', '2024', '2025', '2026', '2027', 'Later']\n",
    "highestLevelOfDegreeHopeToAchieve = ['Associate\\'s Degree', 'Bachelor\\'s Degree', 'Master\\'s Degree', 'Doctoral Degree']\n",
    "doCareerGoalsOrMajorAlignWithField = ['Natural and Mathematical Sciences', 'Engineering', 'Healthcare or Medical', \n",
    "                                      'Education and Human Ecology', 'Business', 'Food and Agriculture', 'Political and Law', \n",
    "                                     'Humanities (history, art, language)', 'Sport, Hospitality and Entertainment', 'Other']\n",
    "involvedInFollowing = ['Student-Alumni Council (SAC)', 'Res Life or Hall Council (RA, OA, RHAC)', \n",
    "                       'Ohio Union Activities Board (OUAB)', 'Undergraduate Student Government (USG)', \n",
    "                       'Greek Life (Social or Academic)', 'Buck-I-Serv, BuckeyeThon, or Community Service Organization', \n",
    "                       'OSU Honary or Honors/Scholars Programs', 'On-campus job or work-study', \n",
    "                       'Athletic Organization (Block O, Studnet Athlete, Rec Sports, Running Club, etc)', \n",
    "                       'Religious Organization', 'Cultural Organization', 'Academic Organization', \n",
    "                       'Special Interest Organization']\n",
    "identifyWithIdentities = ['First-Generation College Student', 'LGBTQ+', 'ROTC, Veteran Student or Military Family', \n",
    "                         'International Student', 'Out-of-State Student', 'Commuter Student', 'Transfer Student', \n",
    "                          'Regional Campus Student']\n",
    "interestedMeetingInPerson = ['Yes', 'No']"
   ]
  },
  {
   "cell_type": "code",
   "execution_count": null,
   "id": "b296cef5",
   "metadata": {},
   "outputs": [],
   "source": [
    "def filterByFields(origDf, filterField):\n",
    "    df = origDf.copy(deep = True)\n",
    "    for index, contents in origDf.iterrows():\n",
    "        field = contents['Which of the following fields does your degree/career align with? - Selected Choice']\n",
    "        if (pd.isnull(field)):\n",
    "            field = ''\n",
    "        fieldInFilter = False\n",
    "        for i in filterField:\n",
    "            if (-1 < field.find(i)):\n",
    "                fieldInFilter = True\n",
    "        if (fieldInFilter == False and field != ''):\n",
    "            df = df.drop(index)\n",
    "    return df"
   ]
  },
  {
   "cell_type": "code",
   "execution_count": null,
   "id": "5bccf904",
   "metadata": {},
   "outputs": [],
   "source": [
    "def filterByIdentity(origDf, filterIdentity):\n",
    "    df = origDf.copy(deep = True)\n",
    "    for index, contents in origDf.iterrows():\n",
    "        field = contents['Did you/do you identify with any of the following identities?']\n",
    "        if (pd.isnull(field)):\n",
    "            field = ''\n",
    "        fieldInFilter = False\n",
    "        for i in filterIdentity:\n",
    "            if (-1 < field.find(i)):\n",
    "                fieldInFilter = True\n",
    "        if (fieldInFilter == False and field != ''):\n",
    "            df = df.drop(index)\n",
    "    return df"
   ]
  },
  {
   "cell_type": "code",
   "execution_count": null,
   "id": "cc2bfbbe",
   "metadata": {},
   "outputs": [],
   "source": [
    "def filterByInvolvement(origDf, filterInvolvement):\n",
    "    df = origDf.copy(deep = True)\n",
    "    for index, contents in origDf.iterrows():\n",
    "        field = contents['Were involved in any of the following extracurricular Activities? - Selected Choice']\n",
    "        if (pd.isnull(field)):\n",
    "            field = ''\n",
    "        fieldInFilter = False\n",
    "        for i in filterInvolvement:\n",
    "            if (-1 < field.find(i)):\n",
    "                fieldInFilter = True\n",
    "        if (fieldInFilter == False and field != ''):\n",
    "            df = df.drop(index)\n",
    "    return df"
   ]
  },
  {
   "cell_type": "code",
   "execution_count": null,
   "id": "87665808",
   "metadata": {},
   "outputs": [],
   "source": [
    "def filterByInPersonEvent(origDf, filterInPerson):\n",
    "    df = origDf.copy(deep = True)\n",
    "    for index, contents in origDf.iterrows():\n",
    "        field = contents['Would you be interested in attending an in-person event to meet your pen pal in Columbus, OH?']\n",
    "        if (pd.isnull(field)):\n",
    "            field = ''\n",
    "        fieldInFilter = False\n",
    "        for i in filterInPerson:\n",
    "            if (-1 < field.find(i)):\n",
    "                fieldInFilter = True\n",
    "        if (fieldInFilter == False and field != ''):\n",
    "            df = df.drop(index)\n",
    "    return df"
   ]
  },
  {
   "cell_type": "code",
   "execution_count": null,
   "id": "e7125379",
   "metadata": {},
   "outputs": [],
   "source": [
    "def getFieldsArray(studentRow):\n",
    "    fields = studentRow['Do your career goals or major(s) align with any of the following fields?']\n",
    "    if (pd.isnull(fields)):\n",
    "            fields = ''\n",
    "    fieldsArray = []\n",
    "    for i in doCareerGoalsOrMajorAlignWithField:\n",
    "        if (-1 < fields.find(i)):\n",
    "            fieldsArray.insert(len(fieldsArray), i)\n",
    "    return fieldsArray"
   ]
  },
  {
   "cell_type": "code",
   "execution_count": null,
   "id": "d1a1a8f4",
   "metadata": {},
   "outputs": [],
   "source": [
    "def getIdentityArray(studentRow):\n",
    "    identities = studentRow['Do you identify with any of the following identities?']\n",
    "    if (pd.isnull(identities)):\n",
    "            identities = ''\n",
    "    identityArray = []\n",
    "    for i in identifyWithIdentities:\n",
    "        if (-1 < identities.find(i)):\n",
    "            identityArray.insert(len(identityArray), i)\n",
    "    return identityArray"
   ]
  },
  {
   "cell_type": "code",
   "execution_count": null,
   "id": "203c0cb7",
   "metadata": {},
   "outputs": [],
   "source": [
    "def getInvolvementArray(studentRow):\n",
    "    involvements = studentRow['Are you involved in any of the following?']\n",
    "    if (pd.isnull(involvements)):\n",
    "            involvements = ''\n",
    "    involvementArray = []\n",
    "    for i in involvedInFollowing:\n",
    "        if (-1 < involvements.find(i)):\n",
    "            involvementArray.insert(len(involvementArray), i)\n",
    "    return involvementArray"
   ]
  },
  {
   "cell_type": "code",
   "execution_count": null,
   "id": "fc932702",
   "metadata": {},
   "outputs": [],
   "source": [
    "def getInPersonArray(studentRow):\n",
    "    inPerson = studentRow['Would you be interested in attending an event to meet your pen pal in person?']\n",
    "    inPersonArray = []\n",
    "    for i in interestedMeetingInPerson:\n",
    "        if (-1 < inPerson.find(i)):\n",
    "            inPersonArray.insert(len(inPersonArray), i)\n",
    "    return inPersonArray"
   ]
  },
  {
   "cell_type": "code",
   "execution_count": null,
   "id": "389f2f90",
   "metadata": {},
   "outputs": [],
   "source": [
    "def filterFieldsIdentityInvolvementPerson(origDf, fieldArray, identityArray, involvementArray, inPersonArray):\n",
    "    df = origDf.copy(deep = True)\n",
    "    if (df.shape[0] > 30):\n",
    "        df = filterByFields(df, fieldArray)\n",
    "        if (df.shape[0] > 30):\n",
    "            df = filterByIdentity(df, identityArray)\n",
    "            if (df.shape[0] > 30):\n",
    "                df = filterByInvolvement(df, involvementArray)\n",
    "                if (df.shape[0] > 30):\n",
    "                    df = filterByInPersonEvent(df, inPersonArray)\n",
    "    return df"
   ]
  },
  {
   "cell_type": "code",
   "execution_count": null,
   "id": "1a38497e",
   "metadata": {},
   "outputs": [],
   "source": [
    "def filterFieldsIdentityPersonInvolvement(origDf, fieldArray, identityArray, involvementArray, inPersonArray):\n",
    "    df = origDf.copy(deep = True)\n",
    "    if (df.shape[0] > 30):\n",
    "        df = filterByFields(df, fieldArray)\n",
    "        if (df.shape[0] > 30):\n",
    "            df = filterByIdentity(df, identityArray)\n",
    "            if (df.shape[0] > 30):\n",
    "                df = filterByInPersonEvent(df, inPersonArray)\n",
    "                if (df.shape[0] > 30):\n",
    "                    df = filterByInvolvement(df, involvementArray)\n",
    "    return df"
   ]
  },
  {
   "cell_type": "code",
   "execution_count": null,
   "id": "b5f268f3",
   "metadata": {},
   "outputs": [],
   "source": [
    "def filterFieldsInvolvementPersonIdentity(origDf, fieldArray, identityArray, involvementArray, inPersonArray):\n",
    "    df = origDf.copy(deep = True)\n",
    "    if (df.shape[0] > 30):\n",
    "        df = filterByFields(df, fieldArray)\n",
    "        if (df.shape[0] > 30):\n",
    "            df = filterByInvolvement(df, involvementArray)\n",
    "            if (df.shape[0] > 30):\n",
    "                df = filterByInPersonEvent(df, inPersonArray)\n",
    "                if (df.shape[0] > 30):\n",
    "                    df = filterByIdentity(df, identityArray)\n",
    "    return df"
   ]
  },
  {
   "cell_type": "code",
   "execution_count": null,
   "id": "807ba2c4",
   "metadata": {},
   "outputs": [],
   "source": [
    "def filterFieldsInvolvementIdentityPerson(origDf, fieldArray, identityArray, involvementArray, inPersonArray):\n",
    "    df = origDf.copy(deep = True)\n",
    "    if (df.shape[0] > 30):\n",
    "        df = filterByFields(df, fieldArray)\n",
    "        if (df.shape[0] > 30):\n",
    "            df = filterByInvolvement(df, involvementArray)\n",
    "            if (df.shape[0] > 30):\n",
    "                df = filterByIdentity(df, identityArray)\n",
    "                if (df.shape[0] > 30):\n",
    "                    df = filterByInPersonEvent(df, inPersonArray)\n",
    "    return df"
   ]
  },
  {
   "cell_type": "code",
   "execution_count": null,
   "id": "72039c98",
   "metadata": {},
   "outputs": [],
   "source": [
    "def filterFieldsPersonIdentityInvolvement(origDf, fieldArray, identityArray, involvementArray, inPersonArray):\n",
    "    df = origDf.copy(deep = True)\n",
    "    if (df.shape[0] > 30):\n",
    "        df = filterByFields(df, fieldArray)\n",
    "        if (df.shape[0] > 30):\n",
    "            df = filterByInPersonEvent(df, inPersonArray)\n",
    "            if (df.shape[0] > 30):\n",
    "                df = filterByIdentity(df, identityArray)\n",
    "                if (df.shape[0] > 30):\n",
    "                    df = filterByInvolvement(df, involvementArray)\n",
    "    return df"
   ]
  },
  {
   "cell_type": "code",
   "execution_count": null,
   "id": "eb0d830b",
   "metadata": {},
   "outputs": [],
   "source": [
    "def filterFieldsPersonInvolvementIdentity(origDf, fieldArray, identityArray, involvementArray, inPersonArray):\n",
    "    df = origDf.copy(deep = True)\n",
    "    if (df.shape[0] > 30):\n",
    "        df = filterByFields(df, fieldArray)\n",
    "        if (df.shape[0] > 30):\n",
    "            df = filterByInPersonEvent(df, inPersonArray)\n",
    "            if (df.shape[0] > 30):\n",
    "                df = filterByInvolvement(df, involvementArray)\n",
    "                if (df.shape[0] > 30):\n",
    "                    df = filterByIdentity(df, identityArray)\n",
    "    return df"
   ]
  },
  {
   "cell_type": "code",
   "execution_count": null,
   "id": "5a7fbaba",
   "metadata": {},
   "outputs": [],
   "source": [
    "def getDfClosestTo30(df1, df2, df3, df4, df5, df6):\n",
    "    rowCount = [abs(df1.shape[0] - 30), abs(df2.shape[0] - 30), abs(df3.shape[0] - 30), abs(df4.shape[0] - 30), \n",
    "                abs(df5.shape[0] - 30), abs(df6.shape[0] - 30)]\n",
    "    \n",
    "    minValue = min(rowCount)\n",
    "    minIndex = rowCount.index(minValue)\n",
    "                \n",
    "    if (minIndex == 0):\n",
    "        dfToReturn = df1\n",
    "    elif (minIndex == 1):\n",
    "        dfToReturn = df2\n",
    "    elif (minIndex == 2):\n",
    "        dfToReturn = df3\n",
    "    elif (minIndex == 3):\n",
    "        dfToReturn = df4\n",
    "    elif (minIndex == 4):\n",
    "        dfToReturn = df5\n",
    "    elif (minIndex == 5):\n",
    "        dfToReturn = df6\n",
    "                \n",
    "    return dfToReturn"
   ]
  },
  {
   "cell_type": "code",
   "execution_count": null,
   "id": "3925a77c",
   "metadata": {},
   "outputs": [],
   "source": []
  },
  {
   "cell_type": "code",
   "execution_count": null,
   "id": "9bf28c36",
   "metadata": {},
   "outputs": [],
   "source": [
    "def save_xls(df1, df2, xls_path):\n",
    "    with ExcelWriter(xls_path) as writer:\n",
    "        df1.to_excel(writer,'student')\n",
    "        df2.to_excel(writer,'alumni group')\n",
    "        writer.save()"
   ]
  },
  {
   "cell_type": "code",
   "execution_count": null,
   "id": "5bf6a53e",
   "metadata": {},
   "outputs": [],
   "source": [
    "for index, contents in studentRaw.iterrows():\n",
    "    fieldArray = getFieldsArray(contents)\n",
    "    identityArray = getIdentityArray(contents)\n",
    "    involvementArray = getInvolvementArray(contents)\n",
    "    inPersonArray = getInPersonArray(contents)\n",
    "    df1 = filterFieldsIdentityInvolvementPerson(alumniRaw, fieldArray, identityArray, involvementArray, inPersonArray)\n",
    "    df2 = filterFieldsIdentityPersonInvolvement(alumniRaw, fieldArray, identityArray, involvementArray, inPersonArray)\n",
    "    df3 = filterFieldsInvolvementPersonIdentity(alumniRaw, fieldArray, identityArray, involvementArray, inPersonArray)\n",
    "    df4 = filterFieldsInvolvementIdentityPerson(alumniRaw, fieldArray, identityArray, involvementArray, inPersonArray)\n",
    "    df5 = filterFieldsPersonIdentityInvolvement(alumniRaw, fieldArray, identityArray, involvementArray, inPersonArray)\n",
    "    df6 = filterFieldsPersonInvolvementIdentity(alumniRaw, fieldArray, identityArray, involvementArray, inPersonArray)\n",
    "    df = getDfClosestTo30(df1, df2, df3, df4, df5, df6)\n",
    "    email = contents['Email Address']\n",
    "    alumniToExport = alumniRaw[(alumniRaw['Email Address'].isin(df['Email Address']))]\n",
    "    studentToExport = studentRaw[studentRaw['Email Address'] == email]\n",
    "    numOfRows = alumniToExport.shape[0]\n",
    "    fileName = \"Student-Alumni-Pairings/\" + email[0: email.find('@')] + '-' + str(numOfRows) + '_Pairs.xlsx'\n",
    "    save_xls(studentToExport, alumniToExport, fileName)"
   ]
  },
  {
   "cell_type": "code",
   "execution_count": null,
   "id": "56301f63",
   "metadata": {},
   "outputs": [],
   "source": []
  },
  {
   "cell_type": "code",
   "execution_count": null,
   "id": "e09d728a",
   "metadata": {},
   "outputs": [],
   "source": []
  }
 ],
 "metadata": {
  "kernelspec": {
   "display_name": "base",
   "language": "python",
   "name": "python3"
  },
  "language_info": {
   "codemirror_mode": {
    "name": "ipython",
    "version": 3
   },
   "file_extension": ".py",
   "mimetype": "text/x-python",
   "name": "python",
   "nbconvert_exporter": "python",
   "pygments_lexer": "ipython3",
   "version": "3.10.8"
  },
  "vscode": {
   "interpreter": {
    "hash": "2b4a37d195aade7314355fe3091875d416063d75fe271c81970592aee7116177"
   }
  }
 },
 "nbformat": 4,
 "nbformat_minor": 5
}
